{
 "cells": [
  {
   "cell_type": "code",
   "execution_count": 1,
   "id": "6267a63c",
   "metadata": {},
   "outputs": [],
   "source": [
    "# load required packages\n",
    "import pandas as pd\n",
    "import numpy as np\n",
    "import matplotlib as mpl\n",
    "import matplotlib.pyplot as plt\n",
    "import seaborn as sb\n",
    "%matplotlib inline"
   ]
  },
  {
   "cell_type": "code",
   "execution_count": 34,
   "id": "86b629bb",
   "metadata": {},
   "outputs": [
    {
     "data": {
      "text/html": [
       "<div>\n",
       "<style scoped>\n",
       "    .dataframe tbody tr th:only-of-type {\n",
       "        vertical-align: middle;\n",
       "    }\n",
       "\n",
       "    .dataframe tbody tr th {\n",
       "        vertical-align: top;\n",
       "    }\n",
       "\n",
       "    .dataframe thead th {\n",
       "        text-align: right;\n",
       "    }\n",
       "</style>\n",
       "<table border=\"1\" class=\"dataframe\">\n",
       "  <thead>\n",
       "    <tr style=\"text-align: right;\">\n",
       "      <th></th>\n",
       "      <th>id</th>\n",
       "      <th>Gender</th>\n",
       "      <th>Age</th>\n",
       "      <th>Driving_License</th>\n",
       "      <th>Region_Code</th>\n",
       "      <th>Previously_Insured</th>\n",
       "      <th>Vehicle_Age</th>\n",
       "      <th>Vehicle_Damage</th>\n",
       "      <th>Annual_Premium</th>\n",
       "      <th>Policy_Sales_Channel</th>\n",
       "      <th>Vintage</th>\n",
       "      <th>Response</th>\n",
       "    </tr>\n",
       "  </thead>\n",
       "  <tbody>\n",
       "    <tr>\n",
       "      <th>0</th>\n",
       "      <td>1</td>\n",
       "      <td>Male</td>\n",
       "      <td>44</td>\n",
       "      <td>1</td>\n",
       "      <td>28.0</td>\n",
       "      <td>0</td>\n",
       "      <td>&gt; 2 Years</td>\n",
       "      <td>Yes</td>\n",
       "      <td>40454.0</td>\n",
       "      <td>26.0</td>\n",
       "      <td>217</td>\n",
       "      <td>1</td>\n",
       "    </tr>\n",
       "    <tr>\n",
       "      <th>1</th>\n",
       "      <td>2</td>\n",
       "      <td>Male</td>\n",
       "      <td>76</td>\n",
       "      <td>1</td>\n",
       "      <td>3.0</td>\n",
       "      <td>0</td>\n",
       "      <td>1-2 Year</td>\n",
       "      <td>No</td>\n",
       "      <td>33536.0</td>\n",
       "      <td>26.0</td>\n",
       "      <td>183</td>\n",
       "      <td>0</td>\n",
       "    </tr>\n",
       "    <tr>\n",
       "      <th>2</th>\n",
       "      <td>3</td>\n",
       "      <td>Male</td>\n",
       "      <td>47</td>\n",
       "      <td>1</td>\n",
       "      <td>28.0</td>\n",
       "      <td>0</td>\n",
       "      <td>&gt; 2 Years</td>\n",
       "      <td>Yes</td>\n",
       "      <td>38294.0</td>\n",
       "      <td>26.0</td>\n",
       "      <td>27</td>\n",
       "      <td>1</td>\n",
       "    </tr>\n",
       "    <tr>\n",
       "      <th>3</th>\n",
       "      <td>4</td>\n",
       "      <td>Male</td>\n",
       "      <td>21</td>\n",
       "      <td>1</td>\n",
       "      <td>11.0</td>\n",
       "      <td>1</td>\n",
       "      <td>&lt; 1 Year</td>\n",
       "      <td>No</td>\n",
       "      <td>28619.0</td>\n",
       "      <td>152.0</td>\n",
       "      <td>203</td>\n",
       "      <td>0</td>\n",
       "    </tr>\n",
       "    <tr>\n",
       "      <th>4</th>\n",
       "      <td>5</td>\n",
       "      <td>Female</td>\n",
       "      <td>29</td>\n",
       "      <td>1</td>\n",
       "      <td>41.0</td>\n",
       "      <td>1</td>\n",
       "      <td>&lt; 1 Year</td>\n",
       "      <td>No</td>\n",
       "      <td>27496.0</td>\n",
       "      <td>152.0</td>\n",
       "      <td>39</td>\n",
       "      <td>0</td>\n",
       "    </tr>\n",
       "  </tbody>\n",
       "</table>\n",
       "</div>"
      ],
      "text/plain": [
       "   id  Gender  Age  Driving_License  Region_Code  Previously_Insured  \\\n",
       "0   1    Male   44                1         28.0                   0   \n",
       "1   2    Male   76                1          3.0                   0   \n",
       "2   3    Male   47                1         28.0                   0   \n",
       "3   4    Male   21                1         11.0                   1   \n",
       "4   5  Female   29                1         41.0                   1   \n",
       "\n",
       "  Vehicle_Age Vehicle_Damage  Annual_Premium  Policy_Sales_Channel  Vintage  \\\n",
       "0   > 2 Years            Yes         40454.0                  26.0      217   \n",
       "1    1-2 Year             No         33536.0                  26.0      183   \n",
       "2   > 2 Years            Yes         38294.0                  26.0       27   \n",
       "3    < 1 Year             No         28619.0                 152.0      203   \n",
       "4    < 1 Year             No         27496.0                 152.0       39   \n",
       "\n",
       "   Response  \n",
       "0         1  \n",
       "1         0  \n",
       "2         1  \n",
       "3         0  \n",
       "4         0  "
      ]
     },
     "execution_count": 34,
     "metadata": {},
     "output_type": "execute_result"
    }
   ],
   "source": [
    "# fetch data\n",
    "# dataset kaggle url: https://www.kaggle.com/datasets/anmolkumar/health-insurance-cross-sell-prediction\n",
    "# --> downloaded, then manually uploaded via jupyter notebook to respository folder\n",
    "#raw_train = pd.read_csv('train.csv')\n",
    "#raw_test = pd.read_csv('test.csv')\n",
    "# the dataset comes from kaggle is split into \"train\" and \"test\"\n",
    "# but \"test\" does not contain Reponse --> will start with \"train\" only here\n",
    "df = pd.read_csv('train.csv')\n",
    "df.head()"
   ]
  },
  {
   "cell_type": "code",
   "execution_count": 90,
   "id": "09da43bc",
   "metadata": {},
   "outputs": [],
   "source": [
    "# split into train/test/valid right from the beginning, even before EDA\n",
    "# want 60/20/20 train/test/valid split\n",
    "from sklearn.model_selection import train_test_split\n",
    "df_train_full, df_test = train_test_split(df, train_size = 0.8, test_size = 0.2, random_state=30)\n",
    "df_train, df_valid = train_test_split(df_train_full, train_size = 0.75, test_size = 0.25, random_state=11)\n",
    "y_train = df_train.Response#.values\n",
    "y_test = df_train.Response#.values\n",
    "y_valid = df_valid.Response#.values\n",
    "#del df_train['Response']\n",
    "#del df_test['Response']\n",
    "#del df_valid['Response']"
   ]
  },
  {
   "cell_type": "code",
   "execution_count": 57,
   "id": "b6e4dde2",
   "metadata": {},
   "outputs": [],
   "source": [
    "# EDA"
   ]
  },
  {
   "cell_type": "code",
   "execution_count": 58,
   "id": "68fbdb34",
   "metadata": {
    "scrolled": true
   },
   "outputs": [
    {
     "name": "stdout",
     "output_type": "stream",
     "text": [
      "The full dataframe contains 381109 observations and 12 columns\n",
      "The columns are \n",
      " ['id', 'Gender', 'Age', 'Driving_License', 'Region_Code', 'Previously_Insured', 'Vehicle_Age', 'Vehicle_Damage', 'Annual_Premium', 'Policy_Sales_Channel', 'Vintage', 'Response']\n"
     ]
    }
   ],
   "source": [
    "print('The full dataframe contains', df.shape[0], 'observations and', df.shape[1], 'columns')\n",
    "print('The columns are \\n', df.columns.values.tolist())"
   ]
  },
  {
   "cell_type": "code",
   "execution_count": 59,
   "id": "22f28d03",
   "metadata": {},
   "outputs": [
    {
     "name": "stdout",
     "output_type": "stream",
     "text": [
      "The train dataframe contains 228665 observations and 11 columns\n",
      "The columns are \n",
      " ['id', 'Gender', 'Age', 'Driving_License', 'Region_Code', 'Previously_Insured', 'Vehicle_Age', 'Vehicle_Damage', 'Annual_Premium', 'Policy_Sales_Channel', 'Vintage']\n"
     ]
    }
   ],
   "source": [
    "print('The train dataframe contains', df_train.shape[0], 'observations and', df_train.shape[1], 'columns')\n",
    "print('The columns are \\n', df_train.columns.values.tolist())"
   ]
  },
  {
   "cell_type": "code",
   "execution_count": 60,
   "id": "21dd638d",
   "metadata": {},
   "outputs": [
    {
     "data": {
      "text/plain": [
       "<AxesSubplot:ylabel='None'>"
      ]
     },
     "execution_count": 60,
     "metadata": {},
     "output_type": "execute_result"
    },
    {
     "data": {
      "image/png": "[encoded data removed]",
      "text/plain": [
       "<Figure size 432x288 with 1 Axes>"
      ]
     },
     "metadata": {},
     "output_type": "display_data"
    }
   ],
   "source": [
    "# univariate EDA\n",
    "# Gender\n",
    "df_train.groupby('Gender').size().plot(kind='pie', autopct='%.2f')\n",
    "# 46% female, 54% male"
   ]
  },
  {
   "cell_type": "code",
   "execution_count": 65,
   "id": "ce38eec9",
   "metadata": {},
   "outputs": [
    {
     "data": {
      "text/plain": [
       "<AxesSubplot:xlabel='Age'>"
      ]
     },
     "execution_count": 65,
     "metadata": {},
     "output_type": "execute_result"
    },
    {
     "data": {
      "image/png": "[encoded data removed]",
      "text/plain": [
       "<Figure size 432x288 with 1 Axes>"
      ]
     },
     "metadata": {
      "needs_background": "light"
     },
     "output_type": "display_data"
    }
   ],
   "source": [
    "# Age\n",
    "df_train.groupby('Age').size().plot(kind='bar')\n",
    "# most people in mid-20s and mid-40s"
   ]
  },
  {
   "cell_type": "code",
   "execution_count": 66,
   "id": "58c533f7",
   "metadata": {},
   "outputs": [
    {
     "data": {
      "text/plain": [
       "<AxesSubplot:>"
      ]
     },
     "execution_count": 66,
     "metadata": {},
     "output_type": "execute_result"
    },
    {
     "data": {
      "image/png": "[encoded data removed]",
      "text/plain": [
       "<Figure size 432x288 with 1 Axes>"
      ]
     },
     "metadata": {
      "needs_background": "light"
     },
     "output_type": "display_data"
    }
   ],
   "source": [
    "df_train.Age.hist()"
   ]
  },
  {
   "cell_type": "code",
   "execution_count": 67,
   "id": "223cd25d",
   "metadata": {},
   "outputs": [
    {
     "data": {
      "text/plain": [
       "<AxesSubplot:ylabel='None'>"
      ]
     },
     "execution_count": 67,
     "metadata": {},
     "output_type": "execute_result"
    },
    {
     "data": {
      "image/png": "[encoded data removed]",
      "text/plain": [
       "<Figure size 432x288 with 1 Axes>"
      ]
     },
     "metadata": {},
     "output_type": "display_data"
    }
   ],
   "source": [
    "# Driving_License\n",
    "df_train.groupby('Driving_License').size().plot(kind='pie', autopct='%.2f')\n",
    "# almost no people without license -- makes sense given context"
   ]
  },
  {
   "cell_type": "code",
   "execution_count": 68,
   "id": "5446405b",
   "metadata": {},
   "outputs": [
    {
     "data": {
      "text/plain": [
       "28.0    63617\n",
       "8.0     20261\n",
       "46.0    12003\n",
       "41.0    10969\n",
       "15.0     7991\n",
       "30.0     7277\n",
       "29.0     6645\n",
       "50.0     6093\n",
       "11.0     5592\n",
       "3.0      5588\n",
       "36.0     5300\n",
       "33.0     4583\n",
       "47.0     4378\n",
       "35.0     4172\n",
       "6.0      3801\n",
       "45.0     3426\n",
       "37.0     3321\n",
       "18.0     3062\n",
       "14.0     2825\n",
       "39.0     2801\n",
       "48.0     2773\n",
       "10.0     2683\n",
       "21.0     2532\n",
       "13.0     2483\n",
       "2.0      2420\n",
       "7.0      1973\n",
       "12.0     1875\n",
       "9.0      1824\n",
       "27.0     1688\n",
       "32.0     1673\n",
       "43.0     1588\n",
       "26.0     1553\n",
       "25.0     1539\n",
       "17.0     1534\n",
       "24.0     1427\n",
       "38.0     1257\n",
       "0.0      1210\n",
       "23.0     1208\n",
       "31.0     1186\n",
       "20.0     1180\n",
       "16.0     1180\n",
       "49.0     1111\n",
       "4.0      1097\n",
       "34.0     1004\n",
       "19.0      920\n",
       "22.0      780\n",
       "40.0      776\n",
       "5.0       771\n",
       "1.0       604\n",
       "44.0      483\n",
       "42.0      353\n",
       "52.0      162\n",
       "51.0      113\n",
       "Name: Region_Code, dtype: int64"
      ]
     },
     "execution_count": 68,
     "metadata": {},
     "output_type": "execute_result"
    },
    {
     "data": {
      "image/png": "[encoded data removed]",
      "text/plain": [
       "<Figure size 432x288 with 1 Axes>"
      ]
     },
     "metadata": {
      "needs_background": "light"
     },
     "output_type": "display_data"
    }
   ],
   "source": [
    "# Region_Code\n",
    "df_train.groupby('Region_Code').size().plot(kind='bar')\n",
    "# high concentration in one (most likely metropolitan) region; 60k obs there\n",
    "df_train.Region_Code.value_counts()\n",
    "# --> \"region 28\" 64k obs"
   ]
  },
  {
   "cell_type": "code",
   "execution_count": 69,
   "id": "ee286f5e",
   "metadata": {},
   "outputs": [
    {
     "data": {
      "text/plain": [
       "<AxesSubplot:ylabel='None'>"
      ]
     },
     "execution_count": 69,
     "metadata": {},
     "output_type": "execute_result"
    },
    {
     "data": {
      "image/png": "[encoded data removed]",
      "text/plain": [
       "<Figure size 432x288 with 1 Axes>"
      ]
     },
     "metadata": {},
     "output_type": "display_data"
    }
   ],
   "source": [
    "# Previously_Insured\n",
    "df_train.groupby('Previously_Insured').size().plot(kind='pie', autopct='%.2f')\n",
    "# 46% previously insured, 54% not "
   ]
  },
  {
   "cell_type": "code",
   "execution_count": 70,
   "id": "6c087576",
   "metadata": {},
   "outputs": [
    {
     "data": {
      "text/plain": [
       "<AxesSubplot:xlabel='Vehicle_Age'>"
      ]
     },
     "execution_count": 70,
     "metadata": {},
     "output_type": "execute_result"
    },
    {
     "data": {
      "image/png": "[encoded data removed]",
      "text/plain": [
       "<Figure size 432x288 with 1 Axes>"
      ]
     },
     "metadata": {
      "needs_background": "light"
     },
     "output_type": "display_data"
    }
   ],
   "source": [
    "# Vehicle_Age\n",
    "df_train.groupby('Vehicle_Age').size().plot(kind='bar')\n",
    "# age only available grouped; oldest group = \"> 2 Years\" (!)"
   ]
  },
  {
   "cell_type": "code",
   "execution_count": 71,
   "id": "c5c1fad7",
   "metadata": {},
   "outputs": [
    {
     "data": {
      "text/plain": [
       "<AxesSubplot:ylabel='None'>"
      ]
     },
     "execution_count": 71,
     "metadata": {},
     "output_type": "execute_result"
    },
    {
     "data": {
      "image/png": "[encoded data removed]",
      "text/plain": [
       "<Figure size 432x288 with 1 Axes>"
      ]
     },
     "metadata": {},
     "output_type": "display_data"
    }
   ],
   "source": [
    "# Vehicle_Damage\n",
    "df_train.groupby('Vehicle_Damage').size().plot(kind='pie', autopct='%.2f')\n",
    "# almost exactly 50/50 split between 'previous damage' and 'no previous damange'"
   ]
  },
  {
   "cell_type": "code",
   "execution_count": 73,
   "id": "453a2ee0",
   "metadata": {},
   "outputs": [
    {
     "data": {
      "text/plain": [
       "2630.0     39073\n",
       "69856.0       84\n",
       "39008.0       24\n",
       "31470.0       24\n",
       "29333.0       24\n",
       "           ...  \n",
       "19868.0        1\n",
       "18285.0        1\n",
       "68225.0        1\n",
       "66103.0        1\n",
       "72475.0        1\n",
       "Name: Annual_Premium, Length: 43095, dtype: int64"
      ]
     },
     "execution_count": 73,
     "metadata": {},
     "output_type": "execute_result"
    },
    {
     "data": {
      "image/png": "[encoded data removed]",
      "text/plain": [
       "<Figure size 432x288 with 1 Axes>"
      ]
     },
     "metadata": {
      "needs_background": "light"
     },
     "output_type": "display_data"
    }
   ],
   "source": [
    "# Annual_Premium\n",
    "df_train.Annual_Premium.hist()\n",
    "# almost all annual premiums in 0-50'000 range but apparently there are also some very high outliers\n",
    "df_train.Annual_Premium.value_counts()\n",
    "# --> see: 39'073 obs with what appears to be some standard contract @ 2'630 premium"
   ]
  },
  {
   "cell_type": "code",
   "execution_count": 75,
   "id": "1fb71616",
   "metadata": {},
   "outputs": [
    {
     "data": {
      "text/plain": [
       "152.0    81041\n",
       "26.0     47846\n",
       "124.0    44220\n",
       "160.0    13078\n",
       "156.0     6405\n",
       "         ...  \n",
       "75.0         1\n",
       "79.0         1\n",
       "123.0        1\n",
       "74.0         1\n",
       "102.0        1\n",
       "Name: Policy_Sales_Channel, Length: 152, dtype: int64"
      ]
     },
     "execution_count": 75,
     "metadata": {},
     "output_type": "execute_result"
    },
    {
     "data": {
      "image/png": "[encoded data removed]",
      "text/plain": [
       "<Figure size 432x288 with 1 Axes>"
      ]
     },
     "metadata": {
      "needs_background": "light"
     },
     "output_type": "display_data"
    }
   ],
   "source": [
    "# Policy_Sales_Channel\n",
    "df_train.groupby('Policy_Sales_Channel').size().plot(kind='bar')\n",
    "# many different channels, but very high concentration around 3 (4?) main ones --> see below\n",
    "df_train.Policy_Sales_Channel.value_counts()"
   ]
  },
  {
   "cell_type": "code",
   "execution_count": 76,
   "id": "c852f6f4",
   "metadata": {},
   "outputs": [
    {
     "data": {
      "text/plain": [
       "<AxesSubplot:>"
      ]
     },
     "execution_count": 76,
     "metadata": {},
     "output_type": "execute_result"
    },
    {
     "data": {
      "image/png": "[encoded data removed]",
      "text/plain": [
       "<Figure size 432x288 with 1 Axes>"
      ]
     },
     "metadata": {
      "needs_background": "light"
     },
     "output_type": "display_data"
    }
   ],
   "source": [
    "# Vintage\n",
    "df_train.Vintage.hist()\n",
    "# vintage of client relationship surprisingly evenly distributed\n",
    "# the sample may have been created in a particular way to result in this distribution"
   ]
  },
  {
   "cell_type": "code",
   "execution_count": 87,
   "id": "abd3e588",
   "metadata": {},
   "outputs": [
    {
     "data": {
      "text/plain": [
       "<AxesSubplot:ylabel='Response'>"
      ]
     },
     "execution_count": 87,
     "metadata": {},
     "output_type": "execute_result"
    },
    {
     "data": {
      "image/png": "[encoded data removed]",
      "text/plain": [
       "<Figure size 432x288 with 1 Axes>"
      ]
     },
     "metadata": {},
     "output_type": "display_data"
    }
   ],
   "source": [
    "# Response\n",
    "#df_train.groupby('Response').size().plot(kind='pie', autopct='%.2f')\n",
    "# deleted Response from df_train and kept y as value so need to adjust slightly\n",
    "y_train.value_counts().plot(kind='pie', autopct='%.2f')\n",
    "# 12.3% of the sample "
   ]
  },
  {
   "cell_type": "code",
   "execution_count": 88,
   "id": "ac7f4330",
   "metadata": {},
   "outputs": [
    {
     "data": {
      "text/plain": [
       "id                      0\n",
       "Gender                  0\n",
       "Age                     0\n",
       "Driving_License         0\n",
       "Region_Code             0\n",
       "Previously_Insured      0\n",
       "Vehicle_Age             0\n",
       "Vehicle_Damage          0\n",
       "Annual_Premium          0\n",
       "Policy_Sales_Channel    0\n",
       "Vintage                 0\n",
       "dtype: int64"
      ]
     },
     "execution_count": 88,
     "metadata": {},
     "output_type": "execute_result"
    }
   ],
   "source": [
    "# check for missing values\n",
    "df_train.isna().sum()\n",
    "# --> none!"
   ]
  },
  {
   "cell_type": "code",
   "execution_count": 93,
   "id": "d6a6c16f",
   "metadata": {},
   "outputs": [
    {
     "data": {
      "text/plain": [
       "0.12277786281241117"
      ]
     },
     "execution_count": 93,
     "metadata": {},
     "output_type": "execute_result"
    }
   ],
   "source": [
    "# feature importance analysis\n",
    "global_mean = y_train.mean()\n",
    "global_mean"
   ]
  },
  {
   "cell_type": "code",
   "execution_count": 106,
   "id": "141ff795",
   "metadata": {},
   "outputs": [
    {
     "data": {
      "text/html": [
       "<div>\n",
       "<style scoped>\n",
       "    .dataframe tbody tr th:only-of-type {\n",
       "        vertical-align: middle;\n",
       "    }\n",
       "\n",
       "    .dataframe tbody tr th {\n",
       "        vertical-align: top;\n",
       "    }\n",
       "\n",
       "    .dataframe thead th {\n",
       "        text-align: right;\n",
       "    }\n",
       "</style>\n",
       "<table border=\"1\" class=\"dataframe\">\n",
       "  <thead>\n",
       "    <tr style=\"text-align: right;\">\n",
       "      <th></th>\n",
       "      <th>mean</th>\n",
       "      <th>n</th>\n",
       "      <th>diff</th>\n",
       "      <th>risk</th>\n",
       "    </tr>\n",
       "    <tr>\n",
       "      <th>Gender</th>\n",
       "      <th></th>\n",
       "      <th></th>\n",
       "      <th></th>\n",
       "      <th></th>\n",
       "    </tr>\n",
       "  </thead>\n",
       "  <tbody>\n",
       "    <tr>\n",
       "      <th>Male</th>\n",
       "      <td>0.138682</td>\n",
       "      <td>164902</td>\n",
       "      <td>0.015905</td>\n",
       "      <td>1.129539</td>\n",
       "    </tr>\n",
       "    <tr>\n",
       "      <th>Female</th>\n",
       "      <td>0.104340</td>\n",
       "      <td>139985</td>\n",
       "      <td>-0.018438</td>\n",
       "      <td>0.849825</td>\n",
       "    </tr>\n",
       "  </tbody>\n",
       "</table>\n",
       "</div>"
      ],
      "text/plain": [
       "            mean       n      diff      risk\n",
       "Gender                                      \n",
       "Male    0.138682  164902  0.015905  1.129539\n",
       "Female  0.104340  139985 -0.018438  0.849825"
      ]
     },
     "metadata": {},
     "output_type": "display_data"
    },
    {
     "data": {
      "text/html": [
       "<div>\n",
       "<style scoped>\n",
       "    .dataframe tbody tr th:only-of-type {\n",
       "        vertical-align: middle;\n",
       "    }\n",
       "\n",
       "    .dataframe tbody tr th {\n",
       "        vertical-align: top;\n",
       "    }\n",
       "\n",
       "    .dataframe thead th {\n",
       "        text-align: right;\n",
       "    }\n",
       "</style>\n",
       "<table border=\"1\" class=\"dataframe\">\n",
       "  <thead>\n",
       "    <tr style=\"text-align: right;\">\n",
       "      <th></th>\n",
       "      <th>mean</th>\n",
       "      <th>n</th>\n",
       "      <th>diff</th>\n",
       "      <th>risk</th>\n",
       "    </tr>\n",
       "    <tr>\n",
       "      <th>Driving_License</th>\n",
       "      <th></th>\n",
       "      <th></th>\n",
       "      <th></th>\n",
       "      <th></th>\n",
       "    </tr>\n",
       "  </thead>\n",
       "  <tbody>\n",
       "    <tr>\n",
       "      <th>1</th>\n",
       "      <td>0.123065</td>\n",
       "      <td>304255</td>\n",
       "      <td>0.000287</td>\n",
       "      <td>1.002335</td>\n",
       "    </tr>\n",
       "    <tr>\n",
       "      <th>0</th>\n",
       "      <td>0.050633</td>\n",
       "      <td>632</td>\n",
       "      <td>-0.072145</td>\n",
       "      <td>0.412394</td>\n",
       "    </tr>\n",
       "  </tbody>\n",
       "</table>\n",
       "</div>"
      ],
      "text/plain": [
       "                     mean       n      diff      risk\n",
       "Driving_License                                      \n",
       "1                0.123065  304255  0.000287  1.002335\n",
       "0                0.050633     632 -0.072145  0.412394"
      ]
     },
     "metadata": {},
     "output_type": "display_data"
    },
    {
     "data": {
      "text/html": [
       "<div>\n",
       "<style scoped>\n",
       "    .dataframe tbody tr th:only-of-type {\n",
       "        vertical-align: middle;\n",
       "    }\n",
       "\n",
       "    .dataframe tbody tr th {\n",
       "        vertical-align: top;\n",
       "    }\n",
       "\n",
       "    .dataframe thead th {\n",
       "        text-align: right;\n",
       "    }\n",
       "</style>\n",
       "<table border=\"1\" class=\"dataframe\">\n",
       "  <thead>\n",
       "    <tr style=\"text-align: right;\">\n",
       "      <th></th>\n",
       "      <th>mean</th>\n",
       "      <th>n</th>\n",
       "      <th>diff</th>\n",
       "      <th>risk</th>\n",
       "    </tr>\n",
       "    <tr>\n",
       "      <th>Region_Code</th>\n",
       "      <th></th>\n",
       "      <th></th>\n",
       "      <th></th>\n",
       "      <th></th>\n",
       "    </tr>\n",
       "  </thead>\n",
       "  <tbody>\n",
       "    <tr>\n",
       "      <th>28.0</th>\n",
       "      <td>0.188294</td>\n",
       "      <td>84915</td>\n",
       "      <td>0.065516</td>\n",
       "      <td>1.533617</td>\n",
       "    </tr>\n",
       "    <tr>\n",
       "      <th>8.0</th>\n",
       "      <td>0.096143</td>\n",
       "      <td>27095</td>\n",
       "      <td>-0.026635</td>\n",
       "      <td>0.783066</td>\n",
       "    </tr>\n",
       "    <tr>\n",
       "      <th>46.0</th>\n",
       "      <td>0.103717</td>\n",
       "      <td>15928</td>\n",
       "      <td>-0.019061</td>\n",
       "      <td>0.844751</td>\n",
       "    </tr>\n",
       "    <tr>\n",
       "      <th>41.0</th>\n",
       "      <td>0.121983</td>\n",
       "      <td>14584</td>\n",
       "      <td>-0.000795</td>\n",
       "      <td>0.993526</td>\n",
       "    </tr>\n",
       "    <tr>\n",
       "      <th>15.0</th>\n",
       "      <td>0.071907</td>\n",
       "      <td>10611</td>\n",
       "      <td>-0.050871</td>\n",
       "      <td>0.585663</td>\n",
       "    </tr>\n",
       "    <tr>\n",
       "      <th>30.0</th>\n",
       "      <td>0.073994</td>\n",
       "      <td>9744</td>\n",
       "      <td>-0.048784</td>\n",
       "      <td>0.602668</td>\n",
       "    </tr>\n",
       "    <tr>\n",
       "      <th>29.0</th>\n",
       "      <td>0.121326</td>\n",
       "      <td>8811</td>\n",
       "      <td>-0.001452</td>\n",
       "      <td>0.988172</td>\n",
       "    </tr>\n",
       "    <tr>\n",
       "      <th>50.0</th>\n",
       "      <td>0.063144</td>\n",
       "      <td>8156</td>\n",
       "      <td>-0.059634</td>\n",
       "      <td>0.514292</td>\n",
       "    </tr>\n",
       "    <tr>\n",
       "      <th>11.0</th>\n",
       "      <td>0.113027</td>\n",
       "      <td>7423</td>\n",
       "      <td>-0.009751</td>\n",
       "      <td>0.920582</td>\n",
       "    </tr>\n",
       "    <tr>\n",
       "      <th>3.0</th>\n",
       "      <td>0.130047</td>\n",
       "      <td>7405</td>\n",
       "      <td>0.007269</td>\n",
       "      <td>1.059208</td>\n",
       "    </tr>\n",
       "    <tr>\n",
       "      <th>36.0</th>\n",
       "      <td>0.083098</td>\n",
       "      <td>7088</td>\n",
       "      <td>-0.039680</td>\n",
       "      <td>0.676817</td>\n",
       "    </tr>\n",
       "    <tr>\n",
       "      <th>33.0</th>\n",
       "      <td>0.101268</td>\n",
       "      <td>6152</td>\n",
       "      <td>-0.021510</td>\n",
       "      <td>0.824806</td>\n",
       "    </tr>\n",
       "    <tr>\n",
       "      <th>47.0</th>\n",
       "      <td>0.085370</td>\n",
       "      <td>5892</td>\n",
       "      <td>-0.037408</td>\n",
       "      <td>0.695321</td>\n",
       "    </tr>\n",
       "    <tr>\n",
       "      <th>35.0</th>\n",
       "      <td>0.124506</td>\n",
       "      <td>5566</td>\n",
       "      <td>0.001728</td>\n",
       "      <td>1.014075</td>\n",
       "    </tr>\n",
       "    <tr>\n",
       "      <th>6.0</th>\n",
       "      <td>0.069502</td>\n",
       "      <td>5079</td>\n",
       "      <td>-0.053276</td>\n",
       "      <td>0.566078</td>\n",
       "    </tr>\n",
       "    <tr>\n",
       "      <th>45.0</th>\n",
       "      <td>0.105427</td>\n",
       "      <td>4496</td>\n",
       "      <td>-0.017351</td>\n",
       "      <td>0.858681</td>\n",
       "    </tr>\n",
       "    <tr>\n",
       "      <th>37.0</th>\n",
       "      <td>0.080790</td>\n",
       "      <td>4456</td>\n",
       "      <td>-0.041988</td>\n",
       "      <td>0.658017</td>\n",
       "    </tr>\n",
       "    <tr>\n",
       "      <th>18.0</th>\n",
       "      <td>0.131180</td>\n",
       "      <td>4086</td>\n",
       "      <td>0.008402</td>\n",
       "      <td>1.068431</td>\n",
       "    </tr>\n",
       "    <tr>\n",
       "      <th>14.0</th>\n",
       "      <td>0.087467</td>\n",
       "      <td>3750</td>\n",
       "      <td>-0.035311</td>\n",
       "      <td>0.712398</td>\n",
       "    </tr>\n",
       "    <tr>\n",
       "      <th>48.0</th>\n",
       "      <td>0.100000</td>\n",
       "      <td>3720</td>\n",
       "      <td>-0.022778</td>\n",
       "      <td>0.814479</td>\n",
       "    </tr>\n",
       "    <tr>\n",
       "      <th>39.0</th>\n",
       "      <td>0.122807</td>\n",
       "      <td>3705</td>\n",
       "      <td>0.000029</td>\n",
       "      <td>1.000237</td>\n",
       "    </tr>\n",
       "    <tr>\n",
       "      <th>10.0</th>\n",
       "      <td>0.059994</td>\n",
       "      <td>3517</td>\n",
       "      <td>-0.062784</td>\n",
       "      <td>0.488641</td>\n",
       "    </tr>\n",
       "    <tr>\n",
       "      <th>21.0</th>\n",
       "      <td>0.069754</td>\n",
       "      <td>3412</td>\n",
       "      <td>-0.053024</td>\n",
       "      <td>0.568130</td>\n",
       "    </tr>\n",
       "    <tr>\n",
       "      <th>13.0</th>\n",
       "      <td>0.087746</td>\n",
       "      <td>3248</td>\n",
       "      <td>-0.035032</td>\n",
       "      <td>0.714675</td>\n",
       "    </tr>\n",
       "    <tr>\n",
       "      <th>2.0</th>\n",
       "      <td>0.072270</td>\n",
       "      <td>3224</td>\n",
       "      <td>-0.050507</td>\n",
       "      <td>0.588628</td>\n",
       "    </tr>\n",
       "    <tr>\n",
       "      <th>7.0</th>\n",
       "      <td>0.131589</td>\n",
       "      <td>2637</td>\n",
       "      <td>0.008811</td>\n",
       "      <td>1.071764</td>\n",
       "    </tr>\n",
       "    <tr>\n",
       "      <th>12.0</th>\n",
       "      <td>0.093160</td>\n",
       "      <td>2544</td>\n",
       "      <td>-0.029617</td>\n",
       "      <td>0.758772</td>\n",
       "    </tr>\n",
       "    <tr>\n",
       "      <th>9.0</th>\n",
       "      <td>0.082695</td>\n",
       "      <td>2479</td>\n",
       "      <td>-0.040083</td>\n",
       "      <td>0.673530</td>\n",
       "    </tr>\n",
       "    <tr>\n",
       "      <th>27.0</th>\n",
       "      <td>0.075033</td>\n",
       "      <td>2279</td>\n",
       "      <td>-0.047745</td>\n",
       "      <td>0.611127</td>\n",
       "    </tr>\n",
       "    <tr>\n",
       "      <th>32.0</th>\n",
       "      <td>0.084927</td>\n",
       "      <td>2249</td>\n",
       "      <td>-0.037851</td>\n",
       "      <td>0.691710</td>\n",
       "    </tr>\n",
       "    <tr>\n",
       "      <th>43.0</th>\n",
       "      <td>0.094384</td>\n",
       "      <td>2119</td>\n",
       "      <td>-0.028394</td>\n",
       "      <td>0.768739</td>\n",
       "    </tr>\n",
       "    <tr>\n",
       "      <th>17.0</th>\n",
       "      <td>0.069645</td>\n",
       "      <td>2082</td>\n",
       "      <td>-0.053133</td>\n",
       "      <td>0.567240</td>\n",
       "    </tr>\n",
       "    <tr>\n",
       "      <th>26.0</th>\n",
       "      <td>0.070839</td>\n",
       "      <td>2061</td>\n",
       "      <td>-0.051938</td>\n",
       "      <td>0.576972</td>\n",
       "    </tr>\n",
       "    <tr>\n",
       "      <th>25.0</th>\n",
       "      <td>0.042042</td>\n",
       "      <td>1998</td>\n",
       "      <td>-0.080736</td>\n",
       "      <td>0.342424</td>\n",
       "    </tr>\n",
       "    <tr>\n",
       "      <th>24.0</th>\n",
       "      <td>0.147074</td>\n",
       "      <td>1931</td>\n",
       "      <td>0.024296</td>\n",
       "      <td>1.197887</td>\n",
       "    </tr>\n",
       "    <tr>\n",
       "      <th>38.0</th>\n",
       "      <td>0.196353</td>\n",
       "      <td>1645</td>\n",
       "      <td>0.073575</td>\n",
       "      <td>1.599251</td>\n",
       "    </tr>\n",
       "    <tr>\n",
       "      <th>0.0</th>\n",
       "      <td>0.084007</td>\n",
       "      <td>1607</td>\n",
       "      <td>-0.038770</td>\n",
       "      <td>0.684223</td>\n",
       "    </tr>\n",
       "    <tr>\n",
       "      <th>16.0</th>\n",
       "      <td>0.061952</td>\n",
       "      <td>1598</td>\n",
       "      <td>-0.060825</td>\n",
       "      <td>0.504590</td>\n",
       "    </tr>\n",
       "    <tr>\n",
       "      <th>20.0</th>\n",
       "      <td>0.121212</td>\n",
       "      <td>1584</td>\n",
       "      <td>-0.001566</td>\n",
       "      <td>0.987247</td>\n",
       "    </tr>\n",
       "    <tr>\n",
       "      <th>23.0</th>\n",
       "      <td>0.155315</td>\n",
       "      <td>1571</td>\n",
       "      <td>0.032537</td>\n",
       "      <td>1.265009</td>\n",
       "    </tr>\n",
       "    <tr>\n",
       "      <th>31.0</th>\n",
       "      <td>0.102810</td>\n",
       "      <td>1566</td>\n",
       "      <td>-0.019968</td>\n",
       "      <td>0.837364</td>\n",
       "    </tr>\n",
       "    <tr>\n",
       "      <th>49.0</th>\n",
       "      <td>0.077493</td>\n",
       "      <td>1484</td>\n",
       "      <td>-0.045285</td>\n",
       "      <td>0.631166</td>\n",
       "    </tr>\n",
       "    <tr>\n",
       "      <th>4.0</th>\n",
       "      <td>0.161693</td>\n",
       "      <td>1441</td>\n",
       "      <td>0.038915</td>\n",
       "      <td>1.316958</td>\n",
       "    </tr>\n",
       "    <tr>\n",
       "      <th>34.0</th>\n",
       "      <td>0.077323</td>\n",
       "      <td>1345</td>\n",
       "      <td>-0.045454</td>\n",
       "      <td>0.629783</td>\n",
       "    </tr>\n",
       "    <tr>\n",
       "      <th>19.0</th>\n",
       "      <td>0.169702</td>\n",
       "      <td>1208</td>\n",
       "      <td>0.046924</td>\n",
       "      <td>1.382187</td>\n",
       "    </tr>\n",
       "    <tr>\n",
       "      <th>22.0</th>\n",
       "      <td>0.057307</td>\n",
       "      <td>1047</td>\n",
       "      <td>-0.065471</td>\n",
       "      <td>0.466750</td>\n",
       "    </tr>\n",
       "    <tr>\n",
       "      <th>40.0</th>\n",
       "      <td>0.111219</td>\n",
       "      <td>1034</td>\n",
       "      <td>-0.011559</td>\n",
       "      <td>0.905852</td>\n",
       "    </tr>\n",
       "    <tr>\n",
       "      <th>5.0</th>\n",
       "      <td>0.118343</td>\n",
       "      <td>1014</td>\n",
       "      <td>-0.004435</td>\n",
       "      <td>0.963881</td>\n",
       "    </tr>\n",
       "    <tr>\n",
       "      <th>1.0</th>\n",
       "      <td>0.113861</td>\n",
       "      <td>808</td>\n",
       "      <td>-0.008916</td>\n",
       "      <td>0.927377</td>\n",
       "    </tr>\n",
       "    <tr>\n",
       "      <th>44.0</th>\n",
       "      <td>0.044479</td>\n",
       "      <td>652</td>\n",
       "      <td>-0.078299</td>\n",
       "      <td>0.362268</td>\n",
       "    </tr>\n",
       "    <tr>\n",
       "      <th>42.0</th>\n",
       "      <td>0.078059</td>\n",
       "      <td>474</td>\n",
       "      <td>-0.044719</td>\n",
       "      <td>0.635775</td>\n",
       "    </tr>\n",
       "    <tr>\n",
       "      <th>52.0</th>\n",
       "      <td>0.124424</td>\n",
       "      <td>217</td>\n",
       "      <td>0.001646</td>\n",
       "      <td>1.013407</td>\n",
       "    </tr>\n",
       "    <tr>\n",
       "      <th>51.0</th>\n",
       "      <td>0.173333</td>\n",
       "      <td>150</td>\n",
       "      <td>0.050555</td>\n",
       "      <td>1.411764</td>\n",
       "    </tr>\n",
       "  </tbody>\n",
       "</table>\n",
       "</div>"
      ],
      "text/plain": [
       "                 mean      n      diff      risk\n",
       "Region_Code                                     \n",
       "28.0         0.188294  84915  0.065516  1.533617\n",
       "8.0          0.096143  27095 -0.026635  0.783066\n",
       "46.0         0.103717  15928 -0.019061  0.844751\n",
       "41.0         0.121983  14584 -0.000795  0.993526\n",
       "15.0         0.071907  10611 -0.050871  0.585663\n",
       "30.0         0.073994   9744 -0.048784  0.602668\n",
       "29.0         0.121326   8811 -0.001452  0.988172\n",
       "50.0         0.063144   8156 -0.059634  0.514292\n",
       "11.0         0.113027   7423 -0.009751  0.920582\n",
       "3.0          0.130047   7405  0.007269  1.059208\n",
       "36.0         0.083098   7088 -0.039680  0.676817\n",
       "33.0         0.101268   6152 -0.021510  0.824806\n",
       "47.0         0.085370   5892 -0.037408  0.695321\n",
       "35.0         0.124506   5566  0.001728  1.014075\n",
       "6.0          0.069502   5079 -0.053276  0.566078\n",
       "45.0         0.105427   4496 -0.017351  0.858681\n",
       "37.0         0.080790   4456 -0.041988  0.658017\n",
       "18.0         0.131180   4086  0.008402  1.068431\n",
       "14.0         0.087467   3750 -0.035311  0.712398\n",
       "48.0         0.100000   3720 -0.022778  0.814479\n",
       "39.0         0.122807   3705  0.000029  1.000237\n",
       "10.0         0.059994   3517 -0.062784  0.488641\n",
       "21.0         0.069754   3412 -0.053024  0.568130\n",
       "13.0         0.087746   3248 -0.035032  0.714675\n",
       "2.0          0.072270   3224 -0.050507  0.588628\n",
       "7.0          0.131589   2637  0.008811  1.071764\n",
       "12.0         0.093160   2544 -0.029617  0.758772\n",
       "9.0          0.082695   2479 -0.040083  0.673530\n",
       "27.0         0.075033   2279 -0.047745  0.611127\n",
       "32.0         0.084927   2249 -0.037851  0.691710\n",
       "43.0         0.094384   2119 -0.028394  0.768739\n",
       "17.0         0.069645   2082 -0.053133  0.567240\n",
       "26.0         0.070839   2061 -0.051938  0.576972\n",
       "25.0         0.042042   1998 -0.080736  0.342424\n",
       "24.0         0.147074   1931  0.024296  1.197887\n",
       "38.0         0.196353   1645  0.073575  1.599251\n",
       "0.0          0.084007   1607 -0.038770  0.684223\n",
       "16.0         0.061952   1598 -0.060825  0.504590\n",
       "20.0         0.121212   1584 -0.001566  0.987247\n",
       "23.0         0.155315   1571  0.032537  1.265009\n",
       "31.0         0.102810   1566 -0.019968  0.837364\n",
       "49.0         0.077493   1484 -0.045285  0.631166\n",
       "4.0          0.161693   1441  0.038915  1.316958\n",
       "34.0         0.077323   1345 -0.045454  0.629783\n",
       "19.0         0.169702   1208  0.046924  1.382187\n",
       "22.0         0.057307   1047 -0.065471  0.466750\n",
       "40.0         0.111219   1034 -0.011559  0.905852\n",
       "5.0          0.118343   1014 -0.004435  0.963881\n",
       "1.0          0.113861    808 -0.008916  0.927377\n",
       "44.0         0.044479    652 -0.078299  0.362268\n",
       "42.0         0.078059    474 -0.044719  0.635775\n",
       "52.0         0.124424    217  0.001646  1.013407\n",
       "51.0         0.173333    150  0.050555  1.411764"
      ]
     },
     "metadata": {},
     "output_type": "display_data"
    },
    {
     "data": {
      "text/html": [
       "<div>\n",
       "<style scoped>\n",
       "    .dataframe tbody tr th:only-of-type {\n",
       "        vertical-align: middle;\n",
       "    }\n",
       "\n",
       "    .dataframe tbody tr th {\n",
       "        vertical-align: top;\n",
       "    }\n",
       "\n",
       "    .dataframe thead th {\n",
       "        text-align: right;\n",
       "    }\n",
       "</style>\n",
       "<table border=\"1\" class=\"dataframe\">\n",
       "  <thead>\n",
       "    <tr style=\"text-align: right;\">\n",
       "      <th></th>\n",
       "      <th>mean</th>\n",
       "      <th>n</th>\n",
       "      <th>diff</th>\n",
       "      <th>risk</th>\n",
       "    </tr>\n",
       "    <tr>\n",
       "      <th>Previously_Insured</th>\n",
       "      <th></th>\n",
       "      <th></th>\n",
       "      <th></th>\n",
       "      <th></th>\n",
       "    </tr>\n",
       "  </thead>\n",
       "  <tbody>\n",
       "    <tr>\n",
       "      <th>0</th>\n",
       "      <td>0.226256</td>\n",
       "      <td>165034</td>\n",
       "      <td>0.103479</td>\n",
       "      <td>1.842811</td>\n",
       "    </tr>\n",
       "    <tr>\n",
       "      <th>1</th>\n",
       "      <td>0.000965</td>\n",
       "      <td>139853</td>\n",
       "      <td>-0.121813</td>\n",
       "      <td>0.007862</td>\n",
       "    </tr>\n",
       "  </tbody>\n",
       "</table>\n",
       "</div>"
      ],
      "text/plain": [
       "                        mean       n      diff      risk\n",
       "Previously_Insured                                      \n",
       "0                   0.226256  165034  0.103479  1.842811\n",
       "1                   0.000965  139853 -0.121813  0.007862"
      ]
     },
     "metadata": {},
     "output_type": "display_data"
    },
    {
     "data": {
      "text/html": [
       "<div>\n",
       "<style scoped>\n",
       "    .dataframe tbody tr th:only-of-type {\n",
       "        vertical-align: middle;\n",
       "    }\n",
       "\n",
       "    .dataframe tbody tr th {\n",
       "        vertical-align: top;\n",
       "    }\n",
       "\n",
       "    .dataframe thead th {\n",
       "        text-align: right;\n",
       "    }\n",
       "</style>\n",
       "<table border=\"1\" class=\"dataframe\">\n",
       "  <thead>\n",
       "    <tr style=\"text-align: right;\">\n",
       "      <th></th>\n",
       "      <th>mean</th>\n",
       "      <th>n</th>\n",
       "      <th>diff</th>\n",
       "      <th>risk</th>\n",
       "    </tr>\n",
       "    <tr>\n",
       "      <th>Vehicle_Age</th>\n",
       "      <th></th>\n",
       "      <th></th>\n",
       "      <th></th>\n",
       "      <th></th>\n",
       "    </tr>\n",
       "  </thead>\n",
       "  <tbody>\n",
       "    <tr>\n",
       "      <th>1-2 Year</th>\n",
       "      <td>0.174150</td>\n",
       "      <td>159983</td>\n",
       "      <td>0.051372</td>\n",
       "      <td>1.418413</td>\n",
       "    </tr>\n",
       "    <tr>\n",
       "      <th>&lt; 1 Year</th>\n",
       "      <td>0.044018</td>\n",
       "      <td>132082</td>\n",
       "      <td>-0.078760</td>\n",
       "      <td>0.358518</td>\n",
       "    </tr>\n",
       "    <tr>\n",
       "      <th>&gt; 2 Years</th>\n",
       "      <td>0.296366</td>\n",
       "      <td>12822</td>\n",
       "      <td>0.173588</td>\n",
       "      <td>2.413836</td>\n",
       "    </tr>\n",
       "  </tbody>\n",
       "</table>\n",
       "</div>"
      ],
      "text/plain": [
       "                 mean       n      diff      risk\n",
       "Vehicle_Age                                      \n",
       "1-2 Year     0.174150  159983  0.051372  1.418413\n",
       "< 1 Year     0.044018  132082 -0.078760  0.358518\n",
       "> 2 Years    0.296366   12822  0.173588  2.413836"
      ]
     },
     "metadata": {},
     "output_type": "display_data"
    },
    {
     "data": {
      "text/html": [
       "<div>\n",
       "<style scoped>\n",
       "    .dataframe tbody tr th:only-of-type {\n",
       "        vertical-align: middle;\n",
       "    }\n",
       "\n",
       "    .dataframe tbody tr th {\n",
       "        vertical-align: top;\n",
       "    }\n",
       "\n",
       "    .dataframe thead th {\n",
       "        text-align: right;\n",
       "    }\n",
       "</style>\n",
       "<table border=\"1\" class=\"dataframe\">\n",
       "  <thead>\n",
       "    <tr style=\"text-align: right;\">\n",
       "      <th></th>\n",
       "      <th>mean</th>\n",
       "      <th>n</th>\n",
       "      <th>diff</th>\n",
       "      <th>risk</th>\n",
       "    </tr>\n",
       "    <tr>\n",
       "      <th>Vehicle_Damage</th>\n",
       "      <th></th>\n",
       "      <th></th>\n",
       "      <th></th>\n",
       "      <th></th>\n",
       "    </tr>\n",
       "  </thead>\n",
       "  <tbody>\n",
       "    <tr>\n",
       "      <th>Yes</th>\n",
       "      <td>0.238457</td>\n",
       "      <td>153801</td>\n",
       "      <td>0.115680</td>\n",
       "      <td>1.942186</td>\n",
       "    </tr>\n",
       "    <tr>\n",
       "      <th>No</th>\n",
       "      <td>0.005295</td>\n",
       "      <td>151086</td>\n",
       "      <td>-0.117483</td>\n",
       "      <td>0.043127</td>\n",
       "    </tr>\n",
       "  </tbody>\n",
       "</table>\n",
       "</div>"
      ],
      "text/plain": [
       "                    mean       n      diff      risk\n",
       "Vehicle_Damage                                      \n",
       "Yes             0.238457  153801  0.115680  1.942186\n",
       "No              0.005295  151086 -0.117483  0.043127"
      ]
     },
     "metadata": {},
     "output_type": "display_data"
    },
    {
     "data": {
      "text/html": [
       "<div>\n",
       "<style scoped>\n",
       "    .dataframe tbody tr th:only-of-type {\n",
       "        vertical-align: middle;\n",
       "    }\n",
       "\n",
       "    .dataframe tbody tr th {\n",
       "        vertical-align: top;\n",
       "    }\n",
       "\n",
       "    .dataframe thead th {\n",
       "        text-align: right;\n",
       "    }\n",
       "</style>\n",
       "<table border=\"1\" class=\"dataframe\">\n",
       "  <thead>\n",
       "    <tr style=\"text-align: right;\">\n",
       "      <th></th>\n",
       "      <th>mean</th>\n",
       "      <th>n</th>\n",
       "      <th>diff</th>\n",
       "      <th>risk</th>\n",
       "    </tr>\n",
       "    <tr>\n",
       "      <th>Policy_Sales_Channel</th>\n",
       "      <th></th>\n",
       "      <th></th>\n",
       "      <th></th>\n",
       "      <th></th>\n",
       "    </tr>\n",
       "  </thead>\n",
       "  <tbody>\n",
       "    <tr>\n",
       "      <th>152.0</th>\n",
       "      <td>0.028746</td>\n",
       "      <td>107981</td>\n",
       "      <td>-0.094032</td>\n",
       "      <td>0.234129</td>\n",
       "    </tr>\n",
       "    <tr>\n",
       "      <th>26.0</th>\n",
       "      <td>0.199398</td>\n",
       "      <td>63802</td>\n",
       "      <td>0.076620</td>\n",
       "      <td>1.624056</td>\n",
       "    </tr>\n",
       "    <tr>\n",
       "      <th>124.0</th>\n",
       "      <td>0.190262</td>\n",
       "      <td>59029</td>\n",
       "      <td>0.067485</td>\n",
       "      <td>1.549648</td>\n",
       "    </tr>\n",
       "    <tr>\n",
       "      <th>160.0</th>\n",
       "      <td>0.022336</td>\n",
       "      <td>17371</td>\n",
       "      <td>-0.100442</td>\n",
       "      <td>0.181923</td>\n",
       "    </tr>\n",
       "    <tr>\n",
       "      <th>156.0</th>\n",
       "      <td>0.216578</td>\n",
       "      <td>8505</td>\n",
       "      <td>0.093801</td>\n",
       "      <td>1.763986</td>\n",
       "    </tr>\n",
       "    <tr>\n",
       "      <th>...</th>\n",
       "      <td>...</td>\n",
       "      <td>...</td>\n",
       "      <td>...</td>\n",
       "      <td>...</td>\n",
       "    </tr>\n",
       "    <tr>\n",
       "      <th>75.0</th>\n",
       "      <td>0.000000</td>\n",
       "      <td>1</td>\n",
       "      <td>-0.122778</td>\n",
       "      <td>0.000000</td>\n",
       "    </tr>\n",
       "    <tr>\n",
       "      <th>50.0</th>\n",
       "      <td>0.000000</td>\n",
       "      <td>1</td>\n",
       "      <td>-0.122778</td>\n",
       "      <td>0.000000</td>\n",
       "    </tr>\n",
       "    <tr>\n",
       "      <th>143.0</th>\n",
       "      <td>0.000000</td>\n",
       "      <td>1</td>\n",
       "      <td>-0.122778</td>\n",
       "      <td>0.000000</td>\n",
       "    </tr>\n",
       "    <tr>\n",
       "      <th>84.0</th>\n",
       "      <td>0.000000</td>\n",
       "      <td>1</td>\n",
       "      <td>-0.122778</td>\n",
       "      <td>0.000000</td>\n",
       "    </tr>\n",
       "    <tr>\n",
       "      <th>27.0</th>\n",
       "      <td>0.000000</td>\n",
       "      <td>1</td>\n",
       "      <td>-0.122778</td>\n",
       "      <td>0.000000</td>\n",
       "    </tr>\n",
       "  </tbody>\n",
       "</table>\n",
       "<p>153 rows × 4 columns</p>\n",
       "</div>"
      ],
      "text/plain": [
       "                          mean       n      diff      risk\n",
       "Policy_Sales_Channel                                      \n",
       "152.0                 0.028746  107981 -0.094032  0.234129\n",
       "26.0                  0.199398   63802  0.076620  1.624056\n",
       "124.0                 0.190262   59029  0.067485  1.549648\n",
       "160.0                 0.022336   17371 -0.100442  0.181923\n",
       "156.0                 0.216578    8505  0.093801  1.763986\n",
       "...                        ...     ...       ...       ...\n",
       "75.0                  0.000000       1 -0.122778  0.000000\n",
       "50.0                  0.000000       1 -0.122778  0.000000\n",
       "143.0                 0.000000       1 -0.122778  0.000000\n",
       "84.0                  0.000000       1 -0.122778  0.000000\n",
       "27.0                  0.000000       1 -0.122778  0.000000\n",
       "\n",
       "[153 rows x 4 columns]"
      ]
     },
     "metadata": {},
     "output_type": "display_data"
    }
   ],
   "source": [
    "categorical = ['Gender', 'Driving_License', 'Region_Code',\n",
    "               'Previously_Insured', 'Vehicle_Age', 'Vehicle_Damage',\n",
    "               'Policy_Sales_Channel']\n",
    "for col in categorical:\n",
    "    df_group = df_train_full.groupby(by=col).Response.agg(['mean'])\n",
    "    df_group['n'] = df_train_full.groupby(by=col).size()\n",
    "    df_group['diff'] = df_group['mean'] - global_mean\n",
    "    df_group['risk'] = df_group['mean'] / global_mean\n",
    "    display(df_group.sort_values('n', ascending=False))\n",
    "    \n",
    "# 13.8% of males take insurance vs. 10.4% of females\n",
    "# 12.3% of sample with driving license take insurance vs. 5.1% of without\n",
    "# region 28 (by far most represented) also has high mean of insurance takers (18.8% vs. 12.3% global mean)\n",
    "# share of insurance takers among those with existing insurance (\"previously insured\") is next to zero\n",
    "# owners of \"older\" vehicles opt for insurance far more often than others (who likely already have insurance?)\n",
    "# those without prior damage are very unlikely to take insurance\n",
    "# often observed sales channels are fairly effective (26: 19.9%, 124: 19.0%) yet most observed 152: 2.9%"
   ]
  },
  {
   "cell_type": "code",
   "execution_count": null,
   "id": "39d17a8f",
   "metadata": {},
   "outputs": [],
   "source": [
    "# data cleaning and preparation for modeling"
   ]
  },
  {
   "cell_type": "code",
   "execution_count": null,
   "id": "9dbf12ae",
   "metadata": {},
   "outputs": [],
   "source": []
  },
  {
   "cell_type": "code",
   "execution_count": 3,
   "id": "d090a292",
   "metadata": {},
   "outputs": [],
   "source": [
    "# linear model"
   ]
  },
  {
   "cell_type": "code",
   "execution_count": null,
   "id": "fdaa3b69",
   "metadata": {},
   "outputs": [],
   "source": []
  },
  {
   "cell_type": "code",
   "execution_count": 4,
   "id": "14502746",
   "metadata": {},
   "outputs": [],
   "source": [
    "# tree-based model"
   ]
  },
  {
   "cell_type": "code",
   "execution_count": null,
   "id": "c5da4bcc",
   "metadata": {},
   "outputs": [],
   "source": []
  },
  {
   "cell_type": "code",
   "execution_count": null,
   "id": "8667f798",
   "metadata": {},
   "outputs": [],
   "source": [
    "# fancy model"
   ]
  },
  {
   "cell_type": "code",
   "execution_count": null,
   "id": "e1671e57",
   "metadata": {},
   "outputs": [],
   "source": []
  }
 ],
 "metadata": {
  "kernelspec": {
   "display_name": "Python 3 (ipykernel)",
   "language": "python",
   "name": "python3"
  },
  "language_info": {
   "codemirror_mode": {
    "name": "ipython",
    "version": 3
   },
   "file_extension": ".py",
   "mimetype": "text/x-python",
   "name": "python",
   "nbconvert_exporter": "python",
   "pygments_lexer": "ipython3",
   "version": "3.9.12"
  }
 },
 "nbformat": 4,
 "nbformat_minor": 5
}
