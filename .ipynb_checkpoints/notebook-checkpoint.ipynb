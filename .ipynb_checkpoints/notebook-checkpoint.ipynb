{
 "cells": [
  {
   "cell_type": "code",
   "execution_count": 1,
   "id": "6267a63c",
   "metadata": {},
   "outputs": [],
   "source": [
    "# load required packages"
   ]
  },
  {
   "cell_type": "code",
   "execution_count": 2,
   "id": "86b629bb",
   "metadata": {},
   "outputs": [],
   "source": [
    "# fetch data"
   ]
  },
  {
   "cell_type": "code",
   "execution_count": null,
   "id": "8f322110",
   "metadata": {},
   "outputs": [],
   "source": []
  },
  {
   "cell_type": "code",
   "execution_count": null,
   "id": "b6e4dde2",
   "metadata": {},
   "outputs": [],
   "source": [
    "# EDA"
   ]
  },
  {
   "cell_type": "code",
   "execution_count": null,
   "id": "d6a6c16f",
   "metadata": {},
   "outputs": [],
   "source": [
    "# feature importance analysis"
   ]
  },
  {
   "cell_type": "code",
   "execution_count": null,
   "id": "39d17a8f",
   "metadata": {},
   "outputs": [],
   "source": [
    "# data cleaning and preparation for modeling"
   ]
  },
  {
   "cell_type": "code",
   "execution_count": null,
   "id": "9dbf12ae",
   "metadata": {},
   "outputs": [],
   "source": []
  },
  {
   "cell_type": "code",
   "execution_count": 3,
   "id": "d090a292",
   "metadata": {},
   "outputs": [],
   "source": [
    "# linear model"
   ]
  },
  {
   "cell_type": "code",
   "execution_count": null,
   "id": "fdaa3b69",
   "metadata": {},
   "outputs": [],
   "source": []
  },
  {
   "cell_type": "code",
   "execution_count": 4,
   "id": "14502746",
   "metadata": {},
   "outputs": [],
   "source": [
    "# tree-based model"
   ]
  },
  {
   "cell_type": "code",
   "execution_count": null,
   "id": "c5da4bcc",
   "metadata": {},
   "outputs": [],
   "source": []
  },
  {
   "cell_type": "code",
   "execution_count": null,
   "id": "8667f798",
   "metadata": {},
   "outputs": [],
   "source": [
    "# fancy model"
   ]
  },
  {
   "cell_type": "code",
   "execution_count": null,
   "id": "e1671e57",
   "metadata": {},
   "outputs": [],
   "source": []
  }
 ],
 "metadata": {
  "kernelspec": {
   "display_name": "Python 3 (ipykernel)",
   "language": "python",
   "name": "python3"
  },
  "language_info": {
   "codemirror_mode": {
    "name": "ipython",
    "version": 3
   },
   "file_extension": ".py",
   "mimetype": "text/x-python",
   "name": "python",
   "nbconvert_exporter": "python",
   "pygments_lexer": "ipython3",
   "version": "3.9.12"
  }
 },
 "nbformat": 4,
 "nbformat_minor": 5
}
